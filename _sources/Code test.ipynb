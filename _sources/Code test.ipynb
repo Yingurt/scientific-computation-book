{
 "cells": [
  {
   "cell_type": "markdown",
   "id": "014c6280",
   "metadata": {},
   "source": [
    "# 测试交互式代码\n",
    "\n",
    "---\n",
    "\n",
    "这是一个测试交互式代码运行按钮的简单页面。"
   ]
  },
  {
   "cell_type": "code",
   "execution_count": 1,
   "id": "0b3ce93a",
   "metadata": {},
   "outputs": [
    {
     "name": "stdout",
     "output_type": "stream",
     "text": [
      "Hello from Thebe and Jupyter Book!\n"
     ]
    }
   ],
   "source": [
    "print(\"Hello from Thebe and Jupyter Book!\")"
   ]
  },
  {
   "cell_type": "code",
   "execution_count": 2,
   "id": "f092dcca",
   "metadata": {},
   "outputs": [
    {
     "name": "stdout",
     "output_type": "stream",
     "text": [
      "4\n"
     ]
    }
   ],
   "source": [
    "print(2 + 2)"
   ]
  },
  {
   "cell_type": "markdown",
   "id": "801f0c37",
   "metadata": {},
   "source": [
    "```{seealso}\n",
    "这个绿色框框好好看！\n",
    "```\n",
    "\n",
    "\n",
    "```{note}\n",
    "📌 这里是一个提示框！\n",
    "\n",
    "```\n",
    "\n",
    "\n",
    "\n",
    "```{warning}\n",
    "⚠️ 小心！这里是一个警告。\n",
    "```\n",
    "\n",
    "\n",
    "```{note}\n",
    "这里是我的图表：\n",
    "```\n",
    "\n",
    "```{glue} sorted_means_fig\n",
    ":doc: executable/output-insert.md\n",
    "```\n",
    "\n",
    "\n",
    "# Markdown Files\n",
    "\n",
    "Whether you write your book's content in Jupyter Notebooks (`.ipynb`) or\n",
    "in regular markdown files (`.md`), you'll write in the same flavor of markdown\n",
    "called **MyST Markdown**.\n",
    "This is a simple file to help you get started and show off some syntax."
   ]
  }
 ],
 "metadata": {
  "jupytext": {
   "formats": "md:myst",
   "text_representation": {
    "extension": ".md",
    "format_name": "myst",
    "format_version": 0.13,
    "jupytext_version": "1.11.5"
   }
  },
  "kernelspec": {
   "display_name": "Python 3",
   "language": "python",
   "name": "python3"
  },
  "language_info": {
   "codemirror_mode": {
    "name": "ipython",
    "version": 3
   },
   "file_extension": ".py",
   "mimetype": "text/x-python",
   "name": "python",
   "nbconvert_exporter": "python",
   "pygments_lexer": "ipython3",
   "version": "3.8.18"
  },
  "source_map": [
   13,
   20,
   24,
   26
  ]
 },
 "nbformat": 4,
 "nbformat_minor": 5
}